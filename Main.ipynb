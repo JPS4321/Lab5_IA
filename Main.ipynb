{
 "cells": [
  {
   "cell_type": "markdown",
   "metadata": {},
   "source": [
    "### Lab 5\n",
    "- Juan Pablo Solis\n",
    "- Brandon Reyes\n",
    "- Carlos Valladares"
   ]
  },
  {
   "cell_type": "markdown",
   "metadata": {},
   "source": [
    "### Task 1.1 Discretizacion Imagen"
   ]
  },
  {
   "cell_type": "code",
   "execution_count": 1,
   "metadata": {},
   "outputs": [],
   "source": [
    "import numpy as np\n",
    "import matplotlib.pyplot as plt\n",
    "from PIL import Image\n",
    "from scipy.ndimage import label\n",
    "from abc import ABC, abstractmethod\n",
    "from collections import deque\n",
    "import heapq"
   ]
  },
  {
   "cell_type": "code",
   "execution_count": 2,
   "metadata": {},
   "outputs": [],
   "source": [
    "def process_maze(image_path):\n",
    "    image = Image.open(image_path).convert(\"RGB\")\n",
    "    image_array = np.array(image)\n",
    "    height, width, _ = image_array.shape\n",
    "\n",
    "    black_walls = (image_array[:, :, 0] < 50) & (image_array[:, :, 1] < 50) & (image_array[:, :, 2] < 50)\n",
    "    red_start = (image_array[:, :, 0] > 200) & (image_array[:, :, 1] < 100) & (image_array[:, :, 2] < 100)\n",
    "    green_goal = (image_array[:, :, 1] > 200) & (image_array[:, :, 0] < 100) & (image_array[:, :, 2] < 100)\n",
    "\n",
    "    red_positions = np.where(red_start)\n",
    "    if len(red_positions[0]) > 0:\n",
    "        cell_size = max(red_positions[0].max() - red_positions[0].min(), red_positions[1].max() - red_positions[1].min())\n",
    "    else:\n",
    "        cell_size = 10\n",
    "\n",
    "    grid_height = height // cell_size\n",
    "    grid_width = width // cell_size\n",
    "    grid = np.ones((grid_height, grid_width, 3), dtype=np.uint8) * 255  # Fondo blanco\n",
    "\n",
    "    labeled_goals, num_goals = label(green_goal)\n",
    "    goals = []\n",
    "    for goal_id in range(1, num_goals + 1):\n",
    "        goal_pixels = np.where(labeled_goals == goal_id)\n",
    "        center_y = int(goal_pixels[0].mean()) // cell_size\n",
    "        center_x = int(goal_pixels[1].mean()) // cell_size\n",
    "        grid[center_y, center_x] = [0, 255, 0]  # Verde\n",
    "        goals.append((center_y, center_x))\n",
    "\n",
    "    start = None\n",
    "    if len(red_positions[0]) > 0:\n",
    "        red_cell_x = red_positions[1].min() // cell_size\n",
    "        red_cell_y = red_positions[0].min() // cell_size\n",
    "        grid[red_cell_y, red_cell_x] = [255, 0, 0]  # Rojo\n",
    "        start = (red_cell_y, red_cell_x)\n",
    "\n",
    "    for i in range(grid_height):\n",
    "        for j in range(grid_width):\n",
    "            block = image_array[i * cell_size:(i + 1) * cell_size, j * cell_size:(j + 1) * cell_size]\n",
    "            avg_color = block.mean(axis=(0, 1))\n",
    "            if avg_color[0] < 50 and avg_color[1] < 50 and avg_color[2] < 50:\n",
    "                grid[i, j] = [0, 0, 0]  # Pared negra\n",
    "\n",
    "    return grid, start, goals"
   ]
  },
  {
   "cell_type": "markdown",
   "metadata": {},
   "source": [
    "Task 1.2 "
   ]
  },
  {
   "cell_type": "code",
   "execution_count": 3,
   "metadata": {},
   "outputs": [],
   "source": [
    "# ===================== Task 1.2: Definición del Framework =====================\n",
    "class MazeProblem(ABC):\n",
    "    def __init__(self, grid):\n",
    "        self.grid = grid\n",
    "\n",
    "    @abstractmethod\n",
    "    def actions(self, state):\n",
    "        pass\n",
    "\n",
    "    @abstractmethod\n",
    "    def step_cost(self, state, action, next_state):\n",
    "        pass\n",
    "\n",
    "    @abstractmethod\n",
    "    def is_goal(self, state):\n",
    "        pass\n",
    "\n",
    "class ConcreteMazeProblem(MazeProblem):\n",
    "    def __init__(self, grid, start, goals):\n",
    "        super().__init__(grid)\n",
    "        self.start = start\n",
    "        self.goals = goals\n",
    "\n",
    "    def actions(self, state):\n",
    "        moves = [(-1, 0), (1, 0), (0, -1), (0, 1)]\n",
    "        valid_moves = []\n",
    "        for move in moves:\n",
    "            new_state = (state[0] + move[0], state[1] + move[1])\n",
    "            if 0 <= new_state[0] < self.grid.shape[0] and 0 <= new_state[1] < self.grid.shape[1] and not np.array_equal(self.grid[new_state[0], new_state[1]], [0, 0, 0]):\n",
    "                valid_moves.append(move)\n",
    "        return valid_moves\n",
    "\n",
    "    def step_cost(self, state, action, next_state):\n",
    "        return 1\n",
    "\n",
    "    def is_goal(self, state):\n",
    "        return state in self.goals\n"
   ]
  }
 ],
 "metadata": {
  "kernelspec": {
   "display_name": "Python 3",
   "language": "python",
   "name": "python3"
  },
  "language_info": {
   "codemirror_mode": {
    "name": "ipython",
    "version": 3
   },
   "file_extension": ".py",
   "mimetype": "text/x-python",
   "name": "python",
   "nbconvert_exporter": "python",
   "pygments_lexer": "ipython3",
   "version": "3.12.6"
  }
 },
 "nbformat": 4,
 "nbformat_minor": 2
}
