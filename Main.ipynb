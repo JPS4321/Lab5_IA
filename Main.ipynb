{
 "cells": [
  {
   "cell_type": "markdown",
   "metadata": {},
   "source": [
    "### Lab 5\n",
    "- Juan Pablo Solis\n",
    "- Brandon Reyes\n",
    "- Carlos Valladares"
   ]
  },
  {
   "cell_type": "markdown",
   "metadata": {},
   "source": [
    "### Task 1.1 Discretizacion Imagen"
   ]
  },
  {
   "cell_type": "code",
   "execution_count": 1,
   "metadata": {},
   "outputs": [],
   "source": [
    "import matplotlib.pyplot as plt\n",
    "import cv2\n",
    "import numpy as np"
   ]
  },
  {
   "cell_type": "code",
   "execution_count": 19,
   "metadata": {},
   "outputs": [
    {
     "data": {
      "image/png": "[encoded data removed]",
      "text/plain": [
       "<Figure size 432x432 with 1 Axes>"
      ]
     },
     "metadata": {
      "needs_background": "light"
     },
     "output_type": "display_data"
    }
   ],
   "source": [
    "import cv2\n",
    "import numpy as np\n",
    "import matplotlib.pyplot as plt\n",
    "\n",
    "# Cargar la imagen\n",
    "image_path = \"TEST.png\"  # Cambiar por la ruta de la imagen\n",
    "image = cv2.imread(image_path)\n",
    "\n",
    "# Convertir a escala de grises\n",
    "gray_image = cv2.cvtColor(image, cv2.COLOR_BGR2GRAY)\n",
    "\n",
    "# Definir el tamaño del grid\n",
    "grid_size = 20\n",
    "\n",
    "# Obtener dimensiones originales\n",
    "height, width = gray_image.shape\n",
    "\n",
    "# --- Detectar los puntos de inicio (rojo) y metas (verde) ---\n",
    "hsv_image = cv2.cvtColor(image, cv2.COLOR_BGR2HSV)\n",
    "\n",
    "# Definir rangos de color para detectar rojo y verde\n",
    "lower_red1, upper_red1 = np.array([0, 100, 100]), np.array([10, 255, 255])\n",
    "lower_red2, upper_red2 = np.array([160, 100, 100]), np.array([180, 255, 255])\n",
    "lower_green, upper_green = np.array([40, 50, 50]), np.array([90, 255, 255])\n",
    "\n",
    "# Crear máscaras para rojo y verde\n",
    "mask_red1 = cv2.inRange(hsv_image, lower_red1, upper_red1)\n",
    "mask_red2 = cv2.inRange(hsv_image, lower_red2, upper_red2)\n",
    "mask_red = cv2.add(mask_red1, mask_red2)\n",
    "mask_green = cv2.inRange(hsv_image, lower_green, upper_green)\n",
    "\n",
    "# Encontrar coordenadas de los puntos rojos y verdes\n",
    "red_points = np.column_stack(np.where(mask_red > 0))\n",
    "green_points = np.column_stack(np.where(mask_green > 0))\n",
    "\n",
    "# Ajustar dimensiones del grid para evitar errores de índice\n",
    "new_width = (width // grid_size) * grid_size\n",
    "new_height = (height // grid_size) * grid_size\n",
    "\n",
    "# Recortar la imagen para que sea múltiplo del grid_size\n",
    "gray_image_cropped = gray_image[:new_height, :new_width]\n",
    "\n",
    "# Crear la imagen reducida con la mediana de cada bloque\n",
    "resized_image = np.zeros((new_height // grid_size, new_width // grid_size), dtype=np.uint8)\n",
    "\n",
    "for i in range(0, new_height, grid_size):\n",
    "    for j in range(0, new_width, grid_size):\n",
    "        block = gray_image_cropped[i:i + grid_size, j:j + grid_size]\n",
    "        resized_image[i // grid_size, j // grid_size] = np.median(block)\n",
    "\n",
    "# Escalar de nuevo al tamaño original\n",
    "discretized_image = cv2.resize(resized_image, (new_width, new_height), interpolation=cv2.INTER_NEAREST)\n",
    "\n",
    "# Convertir a binario (blanco y negro)\n",
    "_, binary_image = cv2.threshold(discretized_image, 127, 255, cv2.THRESH_BINARY)\n",
    "\n",
    "# Convertir a color\n",
    "color_image = cv2.cvtColor(binary_image, cv2.COLOR_GRAY2BGR)\n",
    "\n",
    "# Ajustar los puntos rojos y verdes para que ocupen exactamente un solo bloque del grid\n",
    "for y, x in red_points:\n",
    "    grid_x = (x // grid_size) * grid_size\n",
    "    grid_y = (y // grid_size) * grid_size\n",
    "    cv2.rectangle(color_image, (grid_x, grid_y),\n",
    "                  (grid_x + grid_size, grid_y + grid_size), (0, 0, 255), -1)  # Rojo\n",
    "\n",
    "for y, x in green_points:\n",
    "    grid_x = (x // grid_size) * grid_size\n",
    "    grid_y = (y // grid_size) * grid_size\n",
    "    cv2.rectangle(color_image, (grid_x, grid_y),\n",
    "                  (grid_x + grid_size, grid_y + grid_size), (0, 255, 0), -1)  # Verde\n",
    "\n",
    "# Guardar la imagen ajustada\n",
    "output_path_corrected = \"discretized_corrected.png\"\n",
    "cv2.imwrite(output_path_corrected, color_image)\n",
    "\n",
    "# Mostrar la imagen corregida\n",
    "fig, ax = plt.subplots(figsize=(6, 6))\n",
    "ax.imshow(cv2.cvtColor(color_image, cv2.COLOR_BGR2RGB))\n",
    "ax.set_title(\"Imagen Discretizada con Puntos Exactamente en un Bloque del Grid\")\n",
    "ax.axis(\"off\")\n",
    "plt.show()\n"
   ]
  }
 ],
 "metadata": {
  "kernelspec": {
   "display_name": "Python 3",
   "language": "python",
   "name": "python3"
  },
  "language_info": {
   "codemirror_mode": {
    "name": "ipython",
    "version": 3
   },
   "file_extension": ".py",
   "mimetype": "text/x-python",
   "name": "python",
   "nbconvert_exporter": "python",
   "pygments_lexer": "ipython3",
   "version": "3.10.4"
  }
 },
 "nbformat": 4,
 "nbformat_minor": 2
}
