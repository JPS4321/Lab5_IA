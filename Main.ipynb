{
 "cells": [
  {
   "cell_type": "markdown",
   "metadata": {},
   "source": [
    "### Lab 5\n",
    "- Juan Pablo Solis\n",
    "- Brandon Reyes\n",
    "- Carlos Valladares"
   ]
  },
  {
   "cell_type": "markdown",
   "metadata": {},
   "source": [
    "### Task 1.1 Discretizacion Imagen"
   ]
  },
  {
   "cell_type": "code",
   "execution_count": 7,
   "metadata": {},
   "outputs": [],
   "source": [
    "import matplotlib.pyplot as plt\n",
    "import cv2\n",
    "import numpy as np"
   ]
  },
  {
   "cell_type": "code",
   "execution_count": null,
   "metadata": {},
   "outputs": [
    {
     "data": {
      "image/png": "[encoded data removed]",
      "text/plain": [
       "<Figure size 432x432 with 1 Axes>"
      ]
     },
     "metadata": {},
     "output_type": "display_data"
    }
   ],
   "source": [
    "import numpy as np\n",
    "import matplotlib.pyplot as plt\n",
    "from PIL import Image\n",
    "from scipy.ndimage import label\n",
    "\n",
    "def process_maze(image_path):\n",
    "    \n",
    "    image = Image.open(image_path).convert(\"RGB\")\n",
    "    image_array = np.array(image)\n",
    "\n",
    "    \n",
    "    height, width, _ = image_array.shape\n",
    "\n",
    "    \n",
    "    black_walls = (image_array[:, :, 0] < 50) & (image_array[:, :, 1] < 50) & (image_array[:, :, 2] < 50)\n",
    "    red_start = (image_array[:, :, 0] > 200) & (image_array[:, :, 1] < 100) & (image_array[:, :, 2] < 100)\n",
    "    green_goal = (image_array[:, :, 1] > 200) & (image_array[:, :, 0] < 100) & (image_array[:, :, 2] < 100)\n",
    "\n",
    "    \n",
    "    red_positions = np.where(red_start)\n",
    "    if len(red_positions[0]) > 0:\n",
    "        cell_size = max(red_positions[0].max() - red_positions[0].min(), red_positions[1].max() - red_positions[1].min())\n",
    "    else:\n",
    "        cell_size = 10  \n",
    "\n",
    "    grid_height = height // cell_size\n",
    "    grid_width = width // cell_size\n",
    "    grid_image = np.ones((grid_height, grid_width, 3), dtype=np.uint8) * 255  \n",
    "\n",
    "    \n",
    "    labeled_goals, num_goals = label(green_goal)\n",
    "\n",
    "    \n",
    "    for goal_id in range(1, num_goals + 1):\n",
    "        goal_pixels = np.where(labeled_goals == goal_id)\n",
    "        center_y = int(goal_pixels[0].mean()) // cell_size\n",
    "        center_x = int(goal_pixels[1].mean()) // cell_size\n",
    "        grid_image[center_y, center_x] = [0, 255, 0]  \n",
    "\n",
    "    \n",
    "    if len(red_positions[0]) > 0:\n",
    "        red_cell_x = red_positions[1].min() // cell_size\n",
    "        red_cell_y = red_positions[0].min() // cell_size\n",
    "        grid_image[red_cell_y, red_cell_x] = [255, 0, 0]  \n",
    "\n",
    "    \n",
    "    for i in range(grid_height):\n",
    "        for j in range(grid_width):\n",
    "            block = image_array[i * cell_size:(i + 1) * cell_size, j * cell_size:(j + 1) * cell_size]\n",
    "            avg_color = block.mean(axis=(0, 1))\n",
    "            if avg_color[0] < 50 and avg_color[1] < 50 and avg_color[2] < 50:\n",
    "                grid_image[i, j] = [0, 0, 0]  \n",
    "\n",
    "    \n",
    "    fig, ax = plt.subplots(figsize=(6, 6))\n",
    "    ax.imshow(grid_image)\n",
    "    ax.set_xticks(np.arange(0, grid_width, 1)-0.5, minor=True)\n",
    "    ax.set_yticks(np.arange(0, grid_height, 1)-0.5, minor=True)\n",
    "    ax.grid(which=\"minor\", color=\"gray\", linestyle=\"-\", linewidth=0.5)\n",
    "    ax.tick_params(which=\"both\", bottom=False, left=False, labelbottom=False, labelleft=False)\n",
    "    ax.set_title(\"Laberinto Discretizado con Múltiples Metas Corregidas\")\n",
    "    plt.show()\n",
    "\n",
    "\n",
    "test_image_path = \"Prueba Lab1.bmp\"\n",
    "process_maze(test_image_path)\n"
   ]
  }
 ],
 "metadata": {
  "kernelspec": {
   "display_name": "Python 3",
   "language": "python",
   "name": "python3"
  },
  "language_info": {
   "codemirror_mode": {
    "name": "ipython",
    "version": 3
   },
   "file_extension": ".py",
   "mimetype": "text/x-python",
   "name": "python",
   "nbconvert_exporter": "python",
   "pygments_lexer": "ipython3",
   "version": "3.10.4"
  }
 },
 "nbformat": 4,
 "nbformat_minor": 2
}
