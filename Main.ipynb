{
 "cells": [
  {
   "cell_type": "markdown",
   "metadata": {},
   "source": [
    "### Lab 5\n",
    "- Juan Pablo Solis\n",
    "- Brandon Reyes\n",
    "- Carlos Valladares\n",
    "\n",
    "### Link de Video de Youtube\n",
    "- https://youtu.be/GQlw5S1Lm_0\n",
    "\n",
    "### Link de Repositorio de Github:\n",
    "https://github.com/JPS4321/Lab5_IA"
   ]
  },
  {
   "cell_type": "markdown",
   "metadata": {},
   "source": [
    "### Task 1.1 Discretizacion Imagen"
   ]
  },
  {
   "cell_type": "code",
   "execution_count": 5,
   "metadata": {},
   "outputs": [],
   "source": [
    "import numpy as np\n",
    "import matplotlib.pyplot as plt\n",
    "from PIL import Image\n",
    "from scipy.ndimage import label\n",
    "from abc import ABC, abstractmethod\n",
    "from collections import deque\n",
    "from queue import PriorityQueue"
   ]
  },
  {
   "cell_type": "code",
   "execution_count": 6,
   "metadata": {},
   "outputs": [],
   "source": [
    "def process_maze(image_path):\n",
    "    image = Image.open(image_path).convert(\"RGB\")\n",
    "    image_array = np.array(image)\n",
    "    height, width, _ = image_array.shape\n",
    "\n",
    "    black_walls = (image_array[:, :, 0] < 50) & (image_array[:, :, 1] < 50) & (image_array[:, :, 2] < 50)\n",
    "    red_start = (image_array[:, :, 0] > 200) & (image_array[:, :, 1] < 100) & (image_array[:, :, 2] < 100)\n",
    "    green_goal = (image_array[:, :, 1] > 200) & (image_array[:, :, 0] < 100) & (image_array[:, :, 2] < 100)\n",
    "\n",
    "    red_positions = np.where(red_start)\n",
    "    if len(red_positions[0]) > 0:\n",
    "        cell_size = max(red_positions[0].max() - red_positions[0].min(), red_positions[1].max() - red_positions[1].min())\n",
    "    else:\n",
    "        cell_size = 10\n",
    "\n",
    "    grid_height = height // cell_size\n",
    "    grid_width = width // cell_size\n",
    "    grid = np.ones((grid_height, grid_width, 3), dtype=np.uint8) * 255  # Fondo blanco\n",
    "\n",
    "    labeled_goals, num_goals = label(green_goal)\n",
    "    goals = []\n",
    "    for goal_id in range(1, num_goals + 1):\n",
    "        goal_pixels = np.where(labeled_goals == goal_id)\n",
    "        center_y = int(goal_pixels[0].mean()) // cell_size\n",
    "        center_x = int(goal_pixels[1].mean()) // cell_size\n",
    "        grid[center_y, center_x] = [0, 255, 0]  # Verde\n",
    "        goals.append((center_y, center_x))\n",
    "\n",
    "    start = None\n",
    "    if len(red_positions[0]) > 0:\n",
    "        red_cell_x = red_positions[1].min() // cell_size\n",
    "        red_cell_y = red_positions[0].min() // cell_size\n",
    "        grid[red_cell_y, red_cell_x] = [255, 0, 0]  # Rojo\n",
    "        start = (red_cell_y, red_cell_x)\n",
    "\n",
    "    for i in range(grid_height):\n",
    "        for j in range(grid_width):\n",
    "            block = image_array[i * cell_size:(i + 1) * cell_size, j * cell_size:(j + 1) * cell_size]\n",
    "            avg_color = block.mean(axis=(0, 1))\n",
    "            if avg_color[0] < 50 and avg_color[1] < 50 and avg_color[2] < 50:\n",
    "                grid[i, j] = [0, 0, 0]  # Pared negra\n",
    "\n",
    "    return grid, start, goals"
   ]
  },
  {
   "cell_type": "markdown",
   "metadata": {},
   "source": [
    "### Task 1.2 Framework de problemas"
   ]
  },
  {
   "cell_type": "code",
   "execution_count": 7,
   "metadata": {},
   "outputs": [],
   "source": [
    "class MazeProblem(ABC):\n",
    "    def __init__(self, grid):\n",
    "        self.grid = grid\n",
    "\n",
    "    @abstractmethod\n",
    "    def actions(self, state):\n",
    "        pass\n",
    "\n",
    "    @abstractmethod\n",
    "    def step_cost(self, state, action, next_state):\n",
    "        pass\n",
    "\n",
    "    @abstractmethod\n",
    "    def is_goal(self, state):\n",
    "        pass\n",
    "\n",
    "class ConcreteMazeProblem(MazeProblem):\n",
    "    def __init__(self, grid, start, goals):\n",
    "        super().__init__(grid)\n",
    "        self.start = start\n",
    "        self.goals = goals\n",
    "\n",
    "    def actions(self, state):\n",
    "        moves = [(-1, 0), (1, 0), (0, -1), (0, 1)]\n",
    "        valid_moves = []\n",
    "        for move in moves:\n",
    "            new_state = (state[0] + move[0], state[1] + move[1])\n",
    "            if 0 <= new_state[0] < self.grid.shape[0] and 0 <= new_state[1] < self.grid.shape[1] and not np.array_equal(self.grid[new_state[0], new_state[1]], [0, 0, 0]):\n",
    "                valid_moves.append(move)\n",
    "        return valid_moves\n",
    "\n",
    "    def step_cost(self, state, action, next_state):\n",
    "        return 1\n",
    "\n",
    "    def is_goal(self, state):\n",
    "        return state in self.goals"
   ]
  },
  {
   "cell_type": "markdown",
   "metadata": {},
   "source": [
    "### Task 1.3 y 1.4: Graph-Search y construccion de salida"
   ]
  },
  {
   "cell_type": "code",
   "execution_count": 8,
   "metadata": {},
   "outputs": [
    {
     "data": {
      "image/png": "[encoded data removed]",
      "text/plain": [
       "<Figure size 432x432 with 1 Axes>"
      ]
     },
     "metadata": {
      "needs_background": "light"
     },
     "output_type": "display_data"
    }
   ],
   "source": [
    "def reconstruct_path(came_from, current):\n",
    "    path = []\n",
    "    while current is not None:\n",
    "        path.append(current)\n",
    "        current = came_from[current]\n",
    "    path.reverse()\n",
    "    return path\n",
    "\n",
    "def bfs(problem):\n",
    "    frontier = deque([problem.start])\n",
    "    came_from = {problem.start: None}\n",
    "    while frontier:\n",
    "        current = frontier.popleft()\n",
    "        if problem.is_goal(current):\n",
    "            return reconstruct_path(came_from, current)\n",
    "        for action in problem.actions(current):\n",
    "            next_state = (current[0] + action[0], current[1] + action[1])\n",
    "            if next_state not in came_from:\n",
    "                frontier.append(next_state)\n",
    "                came_from[next_state] = current\n",
    "    return None\n",
    "\n",
    "def dfs(problem):\n",
    "    stack = [(problem.start, [])]\n",
    "    visited = set()\n",
    "    while stack:\n",
    "        current, path = stack.pop()\n",
    "        if current in visited:\n",
    "            continue\n",
    "        visited.add(current)\n",
    "        if problem.is_goal(current):\n",
    "            return path + [current]\n",
    "        for action in problem.actions(current):\n",
    "            next_state = (current[0] + action[0], current[1] + action[1])\n",
    "            stack.append((next_state, path + [current]))\n",
    "    return None\n",
    "\n",
    "def heuristic_manhattan(state, goals):\n",
    "    return min(abs(state[0] - g[0]) + abs(state[1] - g[1]) for g in goals)\n",
    "\n",
    "def heuristic_euclidean(state, goals):\n",
    "    return min(((state[0] - g[0]) ** 2 + (state[1] - g[1]) ** 2) ** 0.5 for g in goals)\n",
    "\n",
    "def plot_path(grid, path):\n",
    "    grid_image = np.copy(grid)\n",
    "    for y, x in path:\n",
    "        if not np.array_equal(grid_image[y, x], [255, 0, 0]) and not np.array_equal(grid_image[y, x], [0, 255, 0]):\n",
    "            grid_image[y, x] = [255, 0, 255]  # Magenta\n",
    "    fig, ax = plt.subplots(figsize=(6, 6))\n",
    "    ax.imshow(grid_image)\n",
    "    ax.set_title(\"Camino Encontrado\")\n",
    "    plt.show()\n",
    "\n",
    "test_image_path = \"Test.bmp\"\n",
    "grid, start, goals = process_maze(test_image_path)\n",
    "problem = ConcreteMazeProblem(grid, start, goals)\n",
    "path = bfs(problem)\n",
    "if path:\n",
    "    plot_path(grid, path)\n"
   ]
  }
 ],
 "metadata": {
  "kernelspec": {
   "display_name": "Python 3",
   "language": "python",
   "name": "python3"
  },
  "language_info": {
   "codemirror_mode": {
    "name": "ipython",
    "version": 3
   },
   "file_extension": ".py",
   "mimetype": "text/x-python",
   "name": "python",
   "nbconvert_exporter": "python",
   "pygments_lexer": "ipython3",
   "version": "3.10.4"
  }
 },
 "nbformat": 4,
 "nbformat_minor": 2
}
